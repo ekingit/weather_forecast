{
  "nbformat": 4,
  "nbformat_minor": 0,
  "metadata": {
    "colab": {
      "provenance": [],
      "authorship_tag": "ABX9TyN/7T7MPcrgjF8ZuugCYGLH",
      "include_colab_link": true
    },
    "kernelspec": {
      "name": "python3",
      "display_name": "Python 3"
    },
    "language_info": {
      "name": "python"
    }
  },
  "cells": [
    {
      "cell_type": "markdown",
      "metadata": {
        "id": "view-in-github",
        "colab_type": "text"
      },
      "source": [
        "<a href=\"https://colab.research.google.com/github/ekingit/weather_forecast/blob/master/1_0_LSTM_7_days_prediction.ipynb\" target=\"_parent\"><img src=\"https://colab.research.google.com/assets/colab-badge.svg\" alt=\"Open In Colab\"/></a>"
      ]
    },
    {
      "cell_type": "code",
      "execution_count": null,
      "metadata": {
        "id": "C1YI7Qia4gg-",
        "colab": {
          "base_uri": "https://localhost:8080/"
        },
        "outputId": "6cf9cc67-c4cb-4f27-c3fd-dc1e1f509c60"
      },
      "outputs": [
        {
          "output_type": "stream",
          "name": "stdout",
          "text": [
            "Drive already mounted at /content/gdrive; to attempt to forcibly remount, call drive.mount(\"/content/gdrive\", force_remount=True).\n"
          ]
        }
      ],
      "source": [
        "import pandas as pd\n",
        "import matplotlib.pyplot as plt\n",
        "import torch\n",
        "from torch import nn\n",
        "from torch.utils.data import DataLoader, TensorDataset\n",
        "\n",
        "from google.colab import drive #connect to drive\n",
        "drive.mount('/content/gdrive')\n",
        "\n",
        "!cp /content/gdrive/MyDrive/Colab\\ Notebooks/weather_forecast/Data/data.py /content/data.py #copy data\n",
        "\n",
        "from data import Sine_Data, Weather_Data"
      ]
    },
    {
      "cell_type": "markdown",
      "source": [
        "# Data"
      ],
      "metadata": {
        "id": "qvu42F0kTKxr"
      }
    },
    {
      "cell_type": "code",
      "source": [
        "nat_data = Weather_Data('/content/gdrive/MyDrive/Colab Notebooks/weather_forecast/Data/weather_prediction_dataset.csv','BASEL_temp_max')\n",
        "(X_train, Y_train), (X_val, Y_val), (X_test, Y_test) = nat_data.data_chunks(14,7)\n",
        "X_train.shape, Y_train.shape"
      ],
      "metadata": {
        "colab": {
          "base_uri": "https://localhost:8080/"
        },
        "id": "P__syYXV5243",
        "outputId": "95fc6973-f7c5-44e5-a314-6fa0d97158a2"
      },
      "execution_count": null,
      "outputs": [
        {
          "output_type": "execute_result",
          "data": {
            "text/plain": [
              "(torch.Size([2902, 14, 1]), torch.Size([2902, 7, 1]))"
            ]
          },
          "metadata": {},
          "execution_count": 2
        }
      ]
    },
    {
      "cell_type": "code",
      "source": [
        "#dataloaders for batching\n",
        "ds_train = TensorDataset(X_train, Y_train)\n",
        "ds_val = TensorDataset(X_val, Y_val)\n",
        "ds_test = TensorDataset(X_test, Y_test)\n",
        "\n",
        "dl_train = DataLoader(ds_train, batch_size=128, shuffle=False)\n",
        "dl_val = DataLoader(ds_val, batch_size=128, shuffle=False)\n",
        "dl_test = DataLoader(ds_test, batch_size=128, shuffle=False)"
      ],
      "metadata": {
        "id": "pTy0Ue8POKXl"
      },
      "execution_count": null,
      "outputs": []
    },
    {
      "cell_type": "markdown",
      "source": [
        "# Model"
      ],
      "metadata": {
        "id": "2K9-dhauTNVV"
      }
    },
    {
      "cell_type": "code",
      "source": [
        "#main model class - forward method: in_data = (batch_size,seq_len,1) --> out_data = (batch_size,target_seq_len,1)\n",
        "class local_LSTM(nn.Module):\n",
        "    def __init__(self, num_inputs, num_hiddens,num_layers=1,num_out=1):\n",
        "        super().__init__()\n",
        "        self.lstm = nn.LSTM(num_inputs, num_hiddens, num_layers, batch_first=True)\n",
        "        self.linear = nn.Linear(num_hiddens, num_out)\n",
        "    def forward(self, X, H, c, target_seq_len):\n",
        "        pred_list = []\n",
        "        state, (H,c) = self.lstm(X,(H,c))\n",
        "        pred = self.linear(H[0]) #prediction for the next day\n",
        "        Z = X.clone()\n",
        "        pred_list.append(pred)\n",
        "        for j in range(1,target_seq_len): #prediction for the (j+1)th day\n",
        "          Z = torch.cat([Z[:,1:],pred.unsqueeze(-1)],1) #concatinate last target_seq with the pred\n",
        "          state, (H,c) = self.lstm(Z,(H,c)) # state[:,-1,:] = H[0]\n",
        "          pred = self.linear(H[0])\n",
        "          pred_list.append(pred)\n",
        "        pred_tens = torch.stack(pred_list,1)\n",
        "        return pred_tens # shape = (batch_size, target_seq_len, 1)"
      ],
      "metadata": {
        "id": "8sHNsYVaNp_T"
      },
      "execution_count": null,
      "outputs": []
    },
    {
      "cell_type": "markdown",
      "source": [
        "# Train"
      ],
      "metadata": {
        "id": "jftEMCVTTSoi"
      }
    },
    {
      "cell_type": "code",
      "source": [
        "#loss = MSE of 7-days predictions, real values\n",
        "def train_lstm(model, dl, optimizer, loss, hidden_size, num_layers, device = 'cpu'):\n",
        "    target_seq_len = dl.dataset[0][1].shape[0]\n",
        "    train_loss = 0\n",
        "    model = model.to(device)\n",
        "    model.train()\n",
        "    for X, Y in dl:\n",
        "        optimizer.zero_grad()\n",
        "        X, Y = X.to(device), Y.to(device)\n",
        "        H = torch.zeros(num_layers,X.shape[0],hidden_size,device=device)\n",
        "        c = torch.zeros(num_layers,X.shape[0],hidden_size,device=device)\n",
        "        Y_hat = model(X,H,c,target_seq_len)\n",
        "        batch_loss = loss(Y_hat,Y) #loss for backpropagation\n",
        "        batch_loss.backward()\n",
        "        optimizer.step()\n",
        "        train_loss += batch_loss.item()\n",
        "    train_loss = train_loss/(len(dl.dataset)*target_seq_len)\n",
        "    if epoch % 100 ==0:\n",
        "        print(f'epoch: {epoch} train_loss: {train_loss}')\n",
        "    return train_loss"
      ],
      "metadata": {
        "id": "JuootRJ5OHQX"
      },
      "execution_count": null,
      "outputs": []
    },
    {
      "cell_type": "code",
      "source": [
        "def test_lstm(model, dl, loss, hidden_size, num_layers, device='cpu'):\n",
        "    target_seq_len = dl.dataset[0][1].shape[0]\n",
        "    test_loss = 0\n",
        "    model = model.to(device)\n",
        "    model.eval()\n",
        "    for X, Y in dl:\n",
        "        X, Y = X.to(device), Y.to(device)\n",
        "        H = torch.zeros(num_layers,X.shape[0], hidden_size,device=device)\n",
        "        c = torch.zeros(num_layers,X.shape[0], hidden_size,device=device)\n",
        "        Y_hat = model(X,H,c,target_seq_len)\n",
        "        batch_loss = loss(Y_hat, Y)\n",
        "        test_loss += batch_loss.item() #mean of number of examples\n",
        "    test_loss = test_loss/(len(dl.dataset)*target_seq_len) # mean of total\n",
        "    if epoch % 100 ==0:\n",
        "        print(f'epoch: {epoch} test_loss: {test_loss}')\n",
        "    return test_loss"
      ],
      "metadata": {
        "id": "mtkPtE6FOSDo"
      },
      "execution_count": null,
      "outputs": []
    },
    {
      "cell_type": "code",
      "source": [
        "#hyperparameters\n",
        "hidden_size = 20\n",
        "num_layers = 3\n",
        "mse_loss = nn.MSELoss(reduction='sum')\n",
        "lr = 1e-4\n",
        "lstm_model = local_LSTM(1,hidden_size,num_layers)\n",
        "optimizer = torch.optim.Adam(lstm_model.parameters(), lr=lr)\n",
        "num_epochs = 1000\n",
        "#train-validation loop\n",
        "train_loss_list = []\n",
        "test_loss_list = []\n",
        "for epoch in range(num_epochs):\n",
        "    train_loss_list.append(train_lstm(lstm_model, dl_train, optimizer, mse_loss, hidden_size, num_layers, device='cuda'))\n",
        "    test_loss_list.append(test_lstm(lstm_model, dl_val, mse_loss, hidden_size, num_layers, device='cuda'))"
      ],
      "metadata": {
        "colab": {
          "base_uri": "https://localhost:8080/"
        },
        "id": "gOShq8A5OT_t",
        "outputId": "8125ce2a-810f-40ad-959e-212a96e54549"
      },
      "execution_count": null,
      "outputs": [
        {
          "output_type": "stream",
          "name": "stdout",
          "text": [
            "epoch: 0 train_loss: 1.050465326815289\n",
            "epoch: 0 test_loss: 0.8482768832898947\n",
            "epoch: 100 train_loss: 0.3142770517643505\n",
            "epoch: 100 test_loss: 0.2637140477225369\n",
            "epoch: 200 train_loss: 0.30241030863658336\n",
            "epoch: 200 test_loss: 0.26234209232346073\n",
            "epoch: 300 train_loss: 0.2953352391561373\n",
            "epoch: 300 test_loss: 0.25841383615079544\n",
            "epoch: 400 train_loss: 0.2890714822092945\n",
            "epoch: 400 test_loss: 0.25392251050147413\n",
            "epoch: 500 train_loss: 0.28241063920111475\n",
            "epoch: 500 test_loss: 0.24811349202541158\n",
            "epoch: 600 train_loss: 0.27673368800445797\n",
            "epoch: 600 test_loss: 0.24522987069618987\n",
            "epoch: 700 train_loss: 0.2737544319743984\n",
            "epoch: 700 test_loss: 0.24627531194962518\n",
            "epoch: 800 train_loss: 0.272080772890401\n",
            "epoch: 800 test_loss: 0.24689008616692365\n",
            "epoch: 900 train_loss: 0.2708428159313572\n",
            "epoch: 900 test_loss: 0.24702258940869182\n"
          ]
        }
      ]
    },
    {
      "cell_type": "markdown",
      "source": [
        "# Results"
      ],
      "metadata": {
        "id": "xhbEc2DfTxVr"
      }
    },
    {
      "cell_type": "code",
      "source": [
        "plt.plot(train_loss_list,label='train')\n",
        "plt.plot(test_loss_list,label='val')\n",
        "plt.legend()"
      ],
      "metadata": {
        "colab": {
          "base_uri": "https://localhost:8080/",
          "height": 447
        },
        "id": "0XWqbLytiZ-r",
        "outputId": "09165177-7d2e-4bc7-f5b6-3a90176d40a2"
      },
      "execution_count": null,
      "outputs": [
        {
          "output_type": "execute_result",
          "data": {
            "text/plain": [
              "<matplotlib.legend.Legend at 0x7fe7fa78d360>"
            ]
          },
          "metadata": {},
          "execution_count": 10
        },
        {
          "output_type": "display_data",
          "data": {
            "text/plain": [
              "<Figure size 640x480 with 1 Axes>"
            ],
            "image/png": "[encoded data removed]"
          },
          "metadata": {}
        }
      ]
    }
  ]
}